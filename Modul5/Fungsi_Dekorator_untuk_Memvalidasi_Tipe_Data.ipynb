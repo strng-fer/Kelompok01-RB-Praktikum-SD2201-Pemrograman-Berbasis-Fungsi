{
  "nbformat": 4,
  "nbformat_minor": 0,
  "metadata": {
    "colab": {
      "provenance": []
    },
    "kernelspec": {
      "name": "python3",
      "display_name": "Python 3"
    },
    "language_info": {
      "name": "python"
    }
  },
  "cells": [
    {
      "cell_type": "code",
      "execution_count": null,
      "metadata": {
        "colab": {
          "base_uri": "https://localhost:8080/"
        },
        "id": "79YQVh3Hbmwf",
        "outputId": "d01787c8-34f3-40ae-aef5-762854a7b614"
      },
      "outputs": [
        {
          "output_type": "stream",
          "name": "stdout",
          "text": [
            "Describe of list:\n",
            "              0\n",
            "count  5.000000\n",
            "mean   3.000000\n",
            "std    1.581139\n",
            "min    1.000000\n",
            "25%    2.000000\n",
            "50%    3.000000\n",
            "75%    4.000000\n",
            "max    5.000000\n",
            "\n",
            "Describe of array:\n",
            "              0\n",
            "count   5.00000\n",
            "mean    8.00000\n",
            "std     9.66954\n",
            "min     0.00000\n",
            "25%     1.00000\n",
            "50%     6.00000\n",
            "75%     9.00000\n",
            "max    24.00000\n",
            "\n",
            "Describe of DataFrame:\n",
            "              0         1\n",
            "count  5.000000  5.000000\n",
            "mean   3.000000  3.800000\n",
            "std    1.581139  2.280351\n",
            "min    1.000000  1.000000\n",
            "25%    2.000000  2.000000\n",
            "50%    3.000000  4.000000\n",
            "75%    4.000000  6.000000\n",
            "max    5.000000  6.000000\n",
            "\n",
            "Invalid Data type Example:\n",
            "Error! Invalid data type, expected list, array or DataFrame\n",
            "None\n"
          ]
        }
      ],
      "source": [
        "import pandas as pd\n",
        "\n",
        "def validate_data_type(func):\n",
        "    def wrapper(data):\n",
        "        if isinstance(data, list):\n",
        "            return func(data)\n",
        "        elif isinstance(data, pd.DataFrame):\n",
        "            return func(data.values.tolist())\n",
        "        else:\n",
        "            print(\"Error! Invalid data type, expected list, array or DataFrame\")\n",
        "    return wrapper\n",
        "\n",
        "@validate_data_type\n",
        "def describe(data):\n",
        "    if isinstance(data, list):\n",
        "        data = pd.DataFrame(data)\n",
        "    return data.describe()\n",
        "\n",
        "# Contoh penggunaan\n",
        "data_list = [1, 2, 3, 4, 5]\n",
        "print(\"Describe of list:\")\n",
        "print(describe(data_list))\n",
        "\n",
        "# Contoh penerapan pada tipe data array\n",
        "data_array = [1, 6, 9, 24, 0]\n",
        "print(\"\\nDescribe of array:\")\n",
        "print(describe(data_array))\n",
        "\n",
        "data_df = pd.DataFrame({'A': [1, 2, 3, 4, 5],\n",
        "                        'B': [1, 4, 6, 2, 6],\n",
        "                        'C': ['a', 'b', 'c', 'd', 'e']})\n",
        "print(\"\\nDescribe of DataFrame:\")\n",
        "print(describe(data_df))\n",
        "\n",
        "# Contoh penerapan pada data invalid\n",
        "print(\"\\nInvalid Data type Example:\")\n",
        "print(describe((1, 2, 3, 4, 5)))\n"
      ]
    }
  ]
}