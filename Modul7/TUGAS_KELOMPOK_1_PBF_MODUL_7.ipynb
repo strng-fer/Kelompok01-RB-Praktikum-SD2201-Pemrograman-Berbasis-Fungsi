{
  "nbformat": 4,
  "nbformat_minor": 0,
  "metadata": {
    "colab": {
      "provenance": []
    },
    "kernelspec": {
      "name": "python3",
      "display_name": "Python 3"
    },
    "language_info": {
      "name": "python"
    }
  },
  "cells": [
    {
      "cell_type": "code",
      "execution_count": null,
      "metadata": {
        "colab": {
          "base_uri": "https://localhost:8080/"
        },
        "id": "SZHju2q4bAvW",
        "outputId": "a8b7fdda-89f5-4cc6-a4c4-1ea36b74fb8e"
      },
      "outputs": [
        {
          "output_type": "stream",
          "name": "stdout",
          "text": [
            "Output written to /content/detroit_police_report.json\n"
          ]
        }
      ],
      "source": [
        "import csv\n",
        "import json\n",
        "from functools import reduce\n",
        "\n",
        "# Read CSV file and convert to list of dictionaries\n",
        "file_path = '/content/911_Calls_for_Service_(Last_30_Days).csv'\n",
        "\n",
        "with open(file_path, mode='r', encoding='utf-8-sig') as file:\n",
        "    csv_reader = csv.DictReader(file)\n",
        "    data = [row for row in csv_reader]\n",
        "\n",
        "# Filter out rows with missing 'Zip' or 'Neighborhood'\n",
        "filtered_data = list(filter(lambda x: x['zip_code'] and x['neighborhood'], data))\n",
        "\n",
        "# Helper function to convert time strings to float\n",
        "def convert_time_to_float(time_str):\n",
        "    try:\n",
        "        return float(time_str)\n",
        "    except ValueError:\n",
        "        return 0.0\n",
        "\n",
        "# Calculate total average response time, dispatch time, and total time for Detroit\n",
        "total_response_time = reduce(lambda acc, x: acc + convert_time_to_float(x['totalresponsetime']), filtered_data, 0.0)\n",
        "total_dispatch_time = reduce(lambda acc, x: acc + convert_time_to_float(x['dispatchtime']), filtered_data, 0.0)\n",
        "total_time = reduce(lambda acc, x: acc + convert_time_to_float(x['totaltime']), filtered_data, 0.0)\n",
        "\n",
        "avg_response_time = total_response_time / len(filtered_data)\n",
        "avg_dispatch_time = total_dispatch_time / len(filtered_data)\n",
        "avg_total_time = total_time / len(filtered_data)\n",
        "\n",
        "# Model neighborhood samples\n",
        "neighborhoods = set(row['neighborhood'] for row in filtered_data)\n",
        "\n",
        "neighborhood_samples = []\n",
        "\n",
        "for neighborhood in neighborhoods:\n",
        "    neighborhood_data = list(filter(lambda x: x['neighborhood'] == neighborhood, filtered_data))\n",
        "\n",
        "    total_response_time_neigh = reduce(lambda acc, x: acc + convert_time_to_float(x['totalresponsetime']), neighborhood_data, 0.0)\n",
        "    total_dispatch_time_neigh = reduce(lambda acc, x: acc + convert_time_to_float(x['dispatchtime']), neighborhood_data, 0.0)\n",
        "    total_time_neigh = reduce(lambda acc, x: acc + convert_time_to_float(x['totaltime']), neighborhood_data, 0.0)\n",
        "\n",
        "    avg_response_time_neigh = total_response_time_neigh / len(neighborhood_data)\n",
        "    avg_dispatch_time_neigh = total_dispatch_time_neigh / len(neighborhood_data)\n",
        "    avg_total_time_neigh = total_time_neigh / len(neighborhood_data)\n",
        "\n",
        "    neighborhood_samples.append({\n",
        "        'neighborhood': neighborhood,\n",
        "        'AvgResponseTime': avg_response_time_neigh,\n",
        "        'AvgDispatchTime': avg_dispatch_time_neigh,\n",
        "        'AvgTotalTime': avg_total_time_neigh\n",
        "    })\n",
        "\n",
        "# Add the overall Detroit data\n",
        "detroit_data = {\n",
        "    'neighborhood': 'All Detroit',\n",
        "    'AvgResponseTime': avg_response_time,\n",
        "    'AvgDispatchTime': avg_dispatch_time,\n",
        "    'AvgTotalTime': avg_total_time\n",
        "}\n",
        "\n",
        "neighborhood_samples.append(detroit_data)\n",
        "\n",
        "# Write output to JSON\n",
        "output_file = '/content/detroit_police_report.json'\n",
        "\n",
        "with open(output_file, mode='w') as json_file:\n",
        "    json.dump(neighborhood_samples, json_file, indent=4)\n",
        "\n",
        "print(f'Output written to {output_file}')\n"
      ]
    }
  ]
}